{
  "nbformat": 4,
  "nbformat_minor": 0,
  "metadata": {
    "colab": {
      "name": "Daily Coding Problem: Problem #1.ipynb",
      "provenance": [],
      "authorship_tag": "ABX9TyNaC+VadQBKWIzv92ktdFTw",
      "include_colab_link": true
    },
    "kernelspec": {
      "name": "python3",
      "display_name": "Python 3"
    }
  },
  "cells": [
    {
      "cell_type": "markdown",
      "metadata": {
        "id": "view-in-github",
        "colab_type": "text"
      },
      "source": [
        "<a href=\"https://colab.research.google.com/github/InnCreator/Daily-Coding-Problem/blob/master/Daily_Coding_Problem_Problem_1.ipynb\" target=\"_parent\"><img src=\"https://colab.research.google.com/assets/colab-badge.svg\" alt=\"Open In Colab\"/></a>"
      ]
    },
    {
      "cell_type": "markdown",
      "metadata": {
        "id": "JWJLOB1oj3uu",
        "colab_type": "text"
      },
      "source": [
        "#This problem was recently asked by Google.\n",
        "\n",
        "Given a list of numbers and a number k, return whether any two numbers from the list add up to k.\n",
        "\n",
        "For example, given [10, 15, 3, 7] and k of 17, return true since 10 + 7 is 17.\n",
        "\n",
        "Bonus: Can you do this in one pass?"
      ]
    },
    {
      "cell_type": "code",
      "metadata": {
        "id": "V7bKasOSe-1w",
        "colab_type": "code",
        "colab": {
          "base_uri": "https://localhost:8080/",
          "height": 51
        },
        "outputId": "b707a73e-3219-4a09-8fa1-55cab57843da"
      },
      "source": [
        "from functools import reduce\n",
        "\n",
        "a = [10, 15, 3, 7]\n",
        "c = 13\n",
        "newList= []\n",
        "\n",
        "for i in a:\n",
        "  for x in a:\n",
        "    newList.append(x + i)\n",
        "\n",
        "print(newList)\n",
        "\n",
        "if c in newList:\n",
        "  print(True)"
      ],
      "execution_count": 59,
      "outputs": [
        {
          "output_type": "stream",
          "text": [
            "[20, 25, 13, 17, 25, 30, 18, 22, 13, 18, 6, 10, 17, 22, 10, 14]\n",
            "True\n"
          ],
          "name": "stdout"
        }
      ]
    },
    {
      "cell_type": "code",
      "metadata": {
        "id": "aBPDAIfty-VC",
        "colab_type": "code",
        "colab": {}
      },
      "source": [
        ""
      ],
      "execution_count": 0,
      "outputs": []
    }
  ]
}