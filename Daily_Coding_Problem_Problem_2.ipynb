{
  "nbformat": 4,
  "nbformat_minor": 0,
  "metadata": {
    "colab": {
      "name": "Daily Coding Problem: Problem #2.ipynb",
      "provenance": [],
      "authorship_tag": "ABX9TyPVOS1AuvHPM8uWiscGJANJ",
      "include_colab_link": true
    },
    "kernelspec": {
      "name": "python3",
      "display_name": "Python 3"
    }
  },
  "cells": [
    {
      "cell_type": "markdown",
      "metadata": {
        "id": "view-in-github",
        "colab_type": "text"
      },
      "source": [
        "<a href=\"https://colab.research.google.com/github/InnCreator/Daily-Coding-Problem/blob/master/Daily_Coding_Problem_Problem_2.ipynb\" target=\"_parent\"><img src=\"https://colab.research.google.com/assets/colab-badge.svg\" alt=\"Open In Colab\"/></a>"
      ]
    },
    {
      "cell_type": "markdown",
      "metadata": {
        "id": "nfZnRTJyDxsH",
        "colab_type": "text"
      },
      "source": [
        "#This problem was asked by Uber.\n",
        "\n",
        "Given an array of integers, return a new array such that each element at index i of the new array is the product of all the numbers in the original array except the one at i.\n",
        "\n",
        "For example, if our input was [1, 2, 3, 4, 5], the expected output would be [120, 60, 40, 30, 24]. If our input was [3, 2, 1], the expected output would be [2, 3, 6].\n",
        "\n",
        "Follow-up: what if you can't use division?"
      ]
    },
    {
      "cell_type": "code",
      "metadata": {
        "id": "ngvUpbc3DsI7",
        "colab_type": "code",
        "outputId": "c1b52cbd-e3d2-47cd-fe69-1e1d33748a0b",
        "colab": {
          "base_uri": "https://localhost:8080/",
          "height": 33
        }
      },
      "source": [
        "from functools import reduce\n",
        "\n",
        "a = [2, 3, 4, 5]\n",
        "newList = []\n",
        "finalList = []\n",
        "\n",
        "for i in a:\n",
        "  product = reduce((lambda x, y: x * y), a)\n",
        "  newList.append(product)\n",
        "    \n",
        "for i in newList:\n",
        "  for y in a:\n",
        "    divide = i/y\n",
        "    finalList.append(divide)\n",
        "    c = len(a)\n",
        "    del finalList[c:]\n",
        "\n",
        "print(finalList)\n",
        "\n",
        "      \n"
      ],
      "execution_count": 1,
      "outputs": [
        {
          "output_type": "stream",
          "text": [
            "[60.0, 40.0, 30.0, 24.0]\n"
          ],
          "name": "stdout"
        }
      ]
    }
  ]
}